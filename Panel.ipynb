{
 "cells": [
  {
   "cell_type": "code",
   "execution_count": null,
   "id": "256443e3",
   "metadata": {},
   "outputs": [],
   "source": [
    "from aepsych.plotting import plot_strat\n",
    "from aepsych.server import AEPsychServer\n",
    "import panel as pn\n",
    "from panel.interact import interact, interactive, fixed, interact_manual\n",
    "from panel import widgets\n",
    "import numpy as np\n",
    "import holoviews as hv\n",
    "from IPython.display import display\n",
    "\n",
    "\n",
    "\n",
    "pn.extension(sizing_mode = 'stretch_width')\n",
    "material = pn.template.MaterialTemplate(title='Interactive AEPsych')\n",
    "xs = np.linspace(0, np.pi)\n",
    "\n",
    "\n",
    "database_path = None\n",
    "server = AEPsychServer()\n",
    "strat = None\n",
    "\n",
    "\n",
    "\n",
    "uploader = pn.widgets.FileInput(accept=\".db\", multiple=False)\n",
    "button_upload = pn.widgets.Button(name='Upload', button_type='default')\n",
    "x_axis = pn.widgets.TextInput(name='x_axis:')\n",
    "y_axis = pn.widgets.TextInput(name='y_axis:')\n",
    "box = pn.WidgetBox('#AEPsych', uploader, button_upload, x_axis, y_axis)\n",
    "display(box)\n",
    "\n",
    "\n",
    "material.sidebar.append(box)\n",
    "\n",
    "\n",
    "\n",
    "database_path = \"/Users/ecortez/Work/voila/databases/data_collection_analysis_tutorial.db\"\n",
    "xlabel = \"Angle (degrees)\"\n",
    "ylabel = \"Detection Probability\"\n",
    "yes_label = \"Detected Trial\"\n",
    "no_label = \"Undetected Trial\"\n",
    "target_level = 0.75\n",
    "cred_level = 0.95\n",
    "\n",
    "serv = AEPsychServer(database_path=database_path)\n",
    "strat = serv.get_strat_from_replay()\n",
    "\n",
    "\n",
    "material.main.append(\n",
    "     pn.Row(\n",
    "          pn.Card(plot_strat(strat, xlabel=xlabel, ylabel=ylabel, yes_label=yes_label, no_label=no_label, cred_level=cred_level, target_level=target_level)\n",
    "                  , title='Output'),\n",
    "    ),\n",
    ")\n",
    "\n",
    "\n",
    "material.show();"
   ]
  },
  {
   "cell_type": "code",
   "execution_count": null,
   "id": "bd6e187f",
   "metadata": {},
   "outputs": [],
   "source": []
  },
  {
   "cell_type": "code",
   "execution_count": null,
   "id": "dada27ec",
   "metadata": {},
   "outputs": [],
   "source": []
  }
 ],
 "metadata": {
  "kernelspec": {
   "display_name": "Python 3 (ipykernel)",
   "language": "python",
   "name": "python3"
  },
  "language_info": {
   "codemirror_mode": {
    "name": "ipython",
    "version": 3
   },
   "file_extension": ".py",
   "mimetype": "text/x-python",
   "name": "python",
   "nbconvert_exporter": "python",
   "pygments_lexer": "ipython3",
   "version": "3.9.12"
  }
 },
 "nbformat": 4,
 "nbformat_minor": 5
}
