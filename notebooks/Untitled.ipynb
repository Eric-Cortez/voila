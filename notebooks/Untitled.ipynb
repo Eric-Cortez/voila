{
 "cells": [
  {
   "cell_type": "code",
   "execution_count": 6,
   "id": "a8a9f4b2",
   "metadata": {},
   "outputs": [
    {
     "name": "stdout",
     "output_type": "stream",
     "text": [
      "Didn't recognize theme name: monokia\r\n",
      "Available Themes: \r\n",
      "   chesterish\r\n",
      "   grade3\r\n",
      "   gruvboxd\r\n",
      "   gruvboxl\r\n",
      "   monokai\r\n",
      "   oceans16\r\n",
      "   onedork\r\n",
      "   solarizedd\r\n",
      "   solarizedl\r\n"
     ]
    }
   ],
   "source": [
    "!jt -t monokia\n"
   ]
  },
  {
   "cell_type": "code",
   "execution_count": null,
   "id": "b1bf05be",
   "metadata": {},
   "outputs": [],
   "source": []
  }
 ],
 "metadata": {
  "kernelspec": {
   "display_name": "Python 3 (ipykernel)",
   "language": "python",
   "name": "python3"
  },
  "language_info": {
   "codemirror_mode": {
    "name": "ipython",
    "version": 3
   },
   "file_extension": ".py",
   "mimetype": "text/x-python",
   "name": "python",
   "nbconvert_exporter": "python",
   "pygments_lexer": "ipython3",
   "version": "3.9.12"
  }
 },
 "nbformat": 4,
 "nbformat_minor": 5
}
