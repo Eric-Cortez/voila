{
 "cells": [
  {
   "cell_type": "markdown",
   "id": "664eef02",
   "metadata": {},
   "source": [
    "## New "
   ]
  },
  {
   "cell_type": "code",
   "execution_count": 1,
   "id": "723d7eca",
   "metadata": {
    "scrolled": true
   },
   "outputs": [
    {
     "name": "stderr",
     "output_type": "stream",
     "text": [
      "2022-10-14 10:23:07,044 [INFO   ] Found DB at ./databases/default.db, appending!\n",
      "2022-10-14 10:23:07,189 [INFO   ] Received msg [setup]\n",
      "2022-10-14 10:23:07,201 [INFO   ] Received msg [ask]\n",
      "2022-10-14 10:23:07,202 [INFO   ] Received msg [tell]\n",
      "2022-10-14 10:23:07,211 [INFO   ] Received msg [ask]\n",
      "2022-10-14 10:23:07,211 [INFO   ] Received msg [tell]\n",
      "2022-10-14 10:23:07,220 [INFO   ] Received msg [ask]\n",
      "2022-10-14 10:23:07,221 [INFO   ] Received msg [tell]\n",
      "2022-10-14 10:23:07,227 [INFO   ] Received msg [ask]\n",
      "2022-10-14 10:23:07,227 [INFO   ] Received msg [tell]\n",
      "2022-10-14 10:23:07,234 [INFO   ] Received msg [ask]\n",
      "2022-10-14 10:23:07,234 [INFO   ] Received msg [tell]\n",
      "2022-10-14 10:23:07,239 [INFO   ] Received msg [ask]\n",
      "2022-10-14 10:23:07,240 [INFO   ] Received msg [tell]\n",
      "2022-10-14 10:23:07,244 [INFO   ] Received msg [ask]\n",
      "2022-10-14 10:23:07,245 [INFO   ] Received msg [tell]\n",
      "2022-10-14 10:23:07,251 [INFO   ] Received msg [ask]\n",
      "2022-10-14 10:23:07,251 [INFO   ] Received msg [tell]\n"
     ]
    },
    {
     "name": "stdout",
     "output_type": "stream",
     "text": [
      "[0]\n"
     ]
    }
   ],
   "source": [
    "from aepsych.server import AEPsychServer\n",
    "from aepsych_client import AEPsychClient\n",
    "\n",
    "\n",
    "\n",
    "server = AEPsychServer()\n",
    "client = AEPsychClient(server=server)\n",
    "\n",
    "# start server first in Downloads/aepsych\n",
    "# aepsych_server --ip 0.0.0.0 --port 5555 database --db data_collection_analysis_tutorial.db\n",
    "# client = AEPsychClient(ip=\"0.0.0.0\", port=5555)\n",
    "\n",
    "config_str = \"\"\"\n",
    "[common]\n",
    "parnames = [theta] # names of the parameters\n",
    "lb = [0.1] # lower bound of the parameter\n",
    "ub = [5] # upper bound of parameter\n",
    "stimuli_per_trial = 1 # the number of stimuli shown in each trial; 1 for single, or 2 for pairwise experiments\n",
    "outcome_types = [binary] # the type of response given by the participant; can be [binary] or [continuous]\n",
    "target = 0.75 # desired threshold, for threshold estimation.\n",
    "strategy_names = [init_strat, opt_strat] # The strategies that will be used, corresponding to the named sections below\n",
    "\n",
    "# Configuration for the initialization strategy, which we use to gather initial points\n",
    "# before we start doing model-based acquisition\n",
    "[init_strat]\n",
    "min_total_tells = 3 # number of sobol trials to run\n",
    "generator = SobolGenerator # The generator class used to generate new parameter values\n",
    "\n",
    "# Configuration for the optimization strategy, our model-based acquisition\n",
    "[opt_strat]\n",
    "min_total_tells = 5 # total number of trials to run\n",
    "refit_every = 2 # how often to refit the model from scratch\n",
    "generator = OptimizeAcqfGenerator # The generator class used to generate new parameter values\n",
    "acqf = MCLevelSetEstimation # The acquisition function; MCLevelSetEstimation is used for threshold finding\n",
    "model = GPClassificationModel # The model class\n",
    "\"\"\"\n",
    "\n",
    "client.configure(config_str=config_str, config_name=\"config1\") # need to add input for config_name\n",
    "\n",
    "print(client.configs)\n",
    "\n",
    "# exp_ids = [rec.experiment_id for rec in server.db.get_master_records()]\n",
    "# print(\"Exp_ids ==>\",exp_ids)\n",
    "\n",
    "# print(\"Database config list ==> \", [rec for rec in server.db.get_config_for(exp_ids[0])])\n",
    "\n",
    "\n",
    "\n",
    "client.ask()\n",
    "\n",
    "client.tell(config={'theta':[.1]}, outcome=0, target_side='right')\n",
    "\n",
    "client.ask()\n",
    "\n",
    "client.tell(config={'theta':[.1]}, outcome=0, target_side='right')\n",
    "\n",
    "client.ask()\n",
    "\n",
    "client.tell(config={'theta':[.1]}, outcome=0, target_side='right')\n",
    "\n",
    "client.ask()\n",
    "\n",
    "client.tell(config={'theta':[.1]}, outcome=0, target_side='right')\n",
    "\n",
    "client.ask()\n",
    "\n",
    "client.tell(config={'theta':[.1]}, outcome=0, target_side='right')\n",
    "\n",
    "client.ask()\n",
    "\n",
    "client.tell(config={'theta':[.1]}, outcome=0, target_side='right')\n",
    "\n",
    "client.ask()\n",
    "\n",
    "client.tell(config={'theta':[.1]}, outcome=0, target_side='right')\n",
    "\n",
    "client.ask()\n",
    "\n",
    "client.tell(config={'theta':[.1]}, outcome=0, target_side='right')\n",
    "\n",
    "\n"
   ]
  },
  {
   "cell_type": "markdown",
   "id": "6710059c",
   "metadata": {},
   "source": [
    "## Resume "
   ]
  },
  {
   "cell_type": "code",
   "execution_count": 2,
   "id": "34ca3e3b",
   "metadata": {},
   "outputs": [
    {
     "name": "stderr",
     "output_type": "stream",
     "text": [
      "2022-10-14 10:23:07,259 [INFO   ] No DB found at /Users/ecortez/Downloads/aepsych/notebooks/databases/new_db.db, creating a new DB!\n"
     ]
    },
    {
     "name": "stdout",
     "output_type": "stream",
     "text": [
      "Exp_ids ==> []\n"
     ]
    },
    {
     "ename": "IndexError",
     "evalue": "list index out of range",
     "output_type": "error",
     "traceback": [
      "\u001b[0;31m---------------------------------------------------------------------------\u001b[0m",
      "\u001b[0;31mIndexError\u001b[0m                                Traceback (most recent call last)",
      "\u001b[0;32m/var/folders/4x/ggl6q8_15s1bbmgxsc48n3fw0000gn/T/ipykernel_33407/1070190363.py\u001b[0m in \u001b[0;36m<module>\u001b[0;34m\u001b[0m\n\u001b[1;32m     11\u001b[0m \u001b[0mexp_ids\u001b[0m \u001b[0;34m=\u001b[0m \u001b[0;34m[\u001b[0m\u001b[0mrec\u001b[0m\u001b[0;34m.\u001b[0m\u001b[0mexperiment_id\u001b[0m \u001b[0;32mfor\u001b[0m \u001b[0mrec\u001b[0m \u001b[0;32min\u001b[0m \u001b[0mserver\u001b[0m\u001b[0;34m.\u001b[0m\u001b[0mdb\u001b[0m\u001b[0;34m.\u001b[0m\u001b[0mget_master_records\u001b[0m\u001b[0;34m(\u001b[0m\u001b[0;34m)\u001b[0m\u001b[0;34m]\u001b[0m\u001b[0;34m\u001b[0m\u001b[0;34m\u001b[0m\u001b[0m\n\u001b[1;32m     12\u001b[0m \u001b[0mprint\u001b[0m\u001b[0;34m(\u001b[0m\u001b[0;34m\"Exp_ids ==>\"\u001b[0m\u001b[0;34m,\u001b[0m\u001b[0mexp_ids\u001b[0m\u001b[0;34m)\u001b[0m\u001b[0;34m\u001b[0m\u001b[0;34m\u001b[0m\u001b[0m\n\u001b[0;32m---> 13\u001b[0;31m \u001b[0mexp_configs\u001b[0m  \u001b[0;34m=\u001b[0m \u001b[0;34m[\u001b[0m\u001b[0mrec\u001b[0m \u001b[0;32mfor\u001b[0m \u001b[0mrec\u001b[0m \u001b[0;32min\u001b[0m \u001b[0mserver\u001b[0m\u001b[0;34m.\u001b[0m\u001b[0mdb\u001b[0m\u001b[0;34m.\u001b[0m\u001b[0mget_config_for\u001b[0m\u001b[0;34m(\u001b[0m\u001b[0mexp_ids\u001b[0m\u001b[0;34m[\u001b[0m\u001b[0;36m0\u001b[0m\u001b[0;34m]\u001b[0m\u001b[0;34m)\u001b[0m\u001b[0;34m]\u001b[0m\u001b[0;34m\u001b[0m\u001b[0;34m\u001b[0m\u001b[0m\n\u001b[0m\u001b[1;32m     14\u001b[0m \u001b[0mprint\u001b[0m\u001b[0;34m(\u001b[0m\u001b[0;34m\"Database config list ==> \"\u001b[0m\u001b[0;34m,\u001b[0m \u001b[0mexp_configs\u001b[0m\u001b[0;34m)\u001b[0m\u001b[0;34m\u001b[0m\u001b[0;34m\u001b[0m\u001b[0m\n\u001b[1;32m     15\u001b[0m \u001b[0;34m\u001b[0m\u001b[0m\n",
      "\u001b[0;31mIndexError\u001b[0m: list index out of range"
     ]
    }
   ],
   "source": [
    "from aepsych.server import AEPsychServer\n",
    "from aepsych_client import AEPsychClient\n",
    "import os\n",
    "# print(os.getcwd())\n",
    "\n",
    "path = os.getcwd() + \"/databases/new_db.db\"\n",
    "# print(path)\n",
    "server = AEPsychServer(database_path=path)\n",
    "client = AEPsychClient(server=server)\n",
    "\n",
    "exp_ids = [rec.experiment_id for rec in server.db.get_master_records()]\n",
    "print(\"Exp_ids ==>\",exp_ids)\n",
    "exp_configs  = [rec for rec in server.db.get_config_for(exp_ids[0])]\n",
    "print(\"Database config list ==> \", exp_configs)\n",
    "\n",
    "\n",
    "print(\"Client configs==>\", client.configs,\"Client configs names\", client.config_names)\n",
    "\n",
    "client.resume(config_id = client.configs)\n",
    "\n",
    "\n"
   ]
  }
 ],
 "metadata": {
  "kernelspec": {
   "display_name": "Python 3 (ipykernel)",
   "language": "python",
   "name": "python3"
  },
  "language_info": {
   "codemirror_mode": {
    "name": "ipython",
    "version": 3
   },
   "file_extension": ".py",
   "mimetype": "text/x-python",
   "name": "python",
   "nbconvert_exporter": "python",
   "pygments_lexer": "ipython3",
   "version": "3.9.13"
  }
 },
 "nbformat": 4,
 "nbformat_minor": 5
}
