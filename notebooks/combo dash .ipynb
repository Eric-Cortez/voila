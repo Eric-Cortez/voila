{
 "cells": [
  {
   "cell_type": "code",
   "execution_count": 3,
   "id": "9621fe49",
   "metadata": {},
   "outputs": [],
   "source": [
    "import os\n",
    "import sys, os\n",
    "import dill\n",
    "import sqlalchemy\n",
    "import ipywidgets as widgets\n",
    "from aepsych.plotting import plot_strat\n",
    "from aepsych.server import AEPsychServer\n",
    "from IPython.display import display\n",
    "from ipywidgets import HTML, AppLayout, Box, Button, Label, Layout, Text,GridspecLayout\n",
    "from IPython.core.display import HTML as html"
   ]
  },
  {
   "cell_type": "code",
   "execution_count": 9,
   "id": "e19cfeb7",
   "metadata": {},
   "outputs": [
    {
     "data": {
      "application/vnd.jupyter.widget-view+json": {
       "model_id": "37eee61a563a457989b221988a6ebc2a",
       "version_major": 2,
       "version_minor": 0
      },
      "text/plain": [
       "Box(children=(Label(value='Build a new experiment, or load data from an old one'), HBox(children=(Button(butto…"
      ]
     },
     "metadata": {},
     "output_type": "display_data"
    },
    {
     "data": {
      "application/vnd.jupyter.widget-view+json": {
       "model_id": "f19ae20330174a18819b5c9cfc1652f8",
       "version_major": 2,
       "version_minor": 0
      },
      "text/plain": [
       "Output(layout=Layout(align_items='center', height='100%', padding='2px', width='100%'))"
      ]
     },
     "metadata": {},
     "output_type": "display_data"
    }
   ],
   "source": [
    "#------ View 1 ------\n",
    "error_output = widgets.Output(layout=Layout(\n",
    "    padding=\"2px\", \n",
    "    height=\"100%\", \n",
    "    align_items='center',\n",
    "    justify_conten=\"center\",\n",
    "    width=\"100%\"))\n",
    "\n",
    "build_experiment = widgets.Button(\n",
    "    description='Build Experiment',\n",
    "    disabled=False,\n",
    "    button_style='info',\n",
    "    tooltip='Click me',\n",
    "    layout=Layout(width='auto', height=\"auto\", margin=\"15px 40px\")\n",
    ")\n",
    "\n",
    "connect_to_database = widgets.Button(\n",
    "    description='Connect to Database',\n",
    "    disabled=False,\n",
    "    button_style='',\n",
    "    tooltip='Click me',\n",
    "    icon=\"fa-cloud-upload\",\n",
    "    style={\"marging\": \"15px\"},\n",
    "    layout=Layout(width='auto', height='auto', margin=\"15px 40px\")\n",
    ")\n",
    "\n",
    "home = widgets.Box([\n",
    "    Label(\"Build a new experiment, or load data from an old one\"), \n",
    "    widgets.HBox([build_experiment, connect_to_database], \n",
    "                layout=widgets.Layout(\n",
    "                margin=\"30px\"\n",
    "                ))],\n",
    "    layout=widgets.Layout(\n",
    "    display=\"flex\",\n",
    "    flex_flow='column',\n",
    "    width=\"100%\",\n",
    "    height=\"100%\",\n",
    "    justify_content='center',\n",
    "    align_items=\"center\",\n",
    "    ),\n",
    ")\n",
    "\n",
    "display(home, error_output)\n",
    "\n",
    "def build():\n",
    "    with error_output: \n",
    "        print(\"Build\")\n",
    "\n",
    "    \n",
    "def connect(): \n",
    "    with error_output:\n",
    "        print(\"connect\")\n",
    "\n",
    "    \n",
    "def build_experiment_clicked(b):\n",
    "    build()\n",
    "\n",
    "    \n",
    "def connect_to_database_clicked(b):\n",
    "    connect()\n",
    "\n",
    "    \n",
    "build_experiment.on_click(build_experiment_clicked)\n",
    "connect_to_database.on_click(connect_to_database_clicked)\n"
   ]
  },
  {
   "cell_type": "code",
   "execution_count": null,
   "id": "37140552",
   "metadata": {},
   "outputs": [],
   "source": []
  }
 ],
 "metadata": {
  "kernelspec": {
   "display_name": "Python 3 (ipykernel)",
   "language": "python",
   "name": "python3"
  },
  "language_info": {
   "codemirror_mode": {
    "name": "ipython",
    "version": 3
   },
   "file_extension": ".py",
   "mimetype": "text/x-python",
   "name": "python",
   "nbconvert_exporter": "python",
   "pygments_lexer": "ipython3",
   "version": "3.9.12"
  }
 },
 "nbformat": 4,
 "nbformat_minor": 5
}
