{
 "cells": [
  {
   "cell_type": "code",
   "execution_count": 23,
   "id": "2f246b44",
   "metadata": {},
   "outputs": [
    {
     "data": {
      "text/plain": [
       "2130706433"
      ]
     },
     "execution_count": 23,
     "metadata": {},
     "output_type": "execute_result"
    }
   ],
   "source": [
    "ip = '127.0.0.1'\n",
    "\n",
    "def ip_string_to_int(ip):\n",
    "    parts = ip.split(\".\")\n",
    "# str -> hex -> decimal \n",
    "    hex2=\"0x\"\n",
    "    for part in parts:\n",
    "        hex2 += format(int(part), \"02x\")\n",
    "\n",
    "    return int(hex2, base=16)\n",
    "\n",
    "ip_string_to_int(ip)\n",
    "    \n"
   ]
  },
  {
   "cell_type": "code",
   "execution_count": null,
   "id": "d63c4997",
   "metadata": {},
   "outputs": [],
   "source": []
  }
 ],
 "metadata": {
  "kernelspec": {
   "display_name": "Python 3 (ipykernel)",
   "language": "python",
   "name": "python3"
  },
  "language_info": {
   "codemirror_mode": {
    "name": "ipython",
    "version": 3
   },
   "file_extension": ".py",
   "mimetype": "text/x-python",
   "name": "python",
   "nbconvert_exporter": "python",
   "pygments_lexer": "ipython3",
   "version": "3.9.12"
  }
 },
 "nbformat": 4,
 "nbformat_minor": 5
}
