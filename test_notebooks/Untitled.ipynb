{
 "cells": [
  {
   "cell_type": "code",
   "execution_count": 5,
   "id": "94482b03-e2d3-40f9-8192-cb348fffa92c",
   "metadata": {},
   "outputs": [
    {
     "data": {
      "application/vnd.jupyter.widget-view+json": {
       "model_id": "d1a758437f184caba7f3bcf0991ad65e",
       "version_major": 2,
       "version_minor": 0
      },
      "text/plain": [
       "Container(children=[Overlay(color='#fff', opacity=1.0, style_='transition:unset', z_index=-1.0), Btn(children=…"
      ]
     },
     "metadata": {},
     "output_type": "display_data"
    }
   ],
   "source": [
    "# !pip install ipyvuetify\n",
    "import ipyvuetify as v\n",
    "\n",
    "dark_bg = '#121212'\n",
    "light_bg = '#fff'\n",
    "\n",
    "bg = v.Overlay(\n",
    "    color=dark_bg if v.theme.dark==True else light_bg, \n",
    "    opacity=1, \n",
    "    style_='transition:unset', \n",
    "    z_index=-1\n",
    ")\n",
    "\n",
    "def bg_switch(widget, event, data):\n",
    "    v.theme.dark = not v.theme.dark\n",
    "    bg.color = dark_bg if v.theme.dark==True else light_bg\n",
    "\n",
    "btn = v.Btn(children=[v.Icon(children=['mdi-theme-light-dark'])])\n",
    "btn.on_event('click', bg_switch)\n",
    "\n",
    "v.Container(children=[bg, btn])\n"
   ]
  }
 ],
 "metadata": {
  "kernelspec": {
   "display_name": "Python 3 (ipykernel)",
   "language": "python",
   "name": "python3"
  },
  "language_info": {
   "codemirror_mode": {
    "name": "ipython",
    "version": 3
   },
   "file_extension": ".py",
   "mimetype": "text/x-python",
   "name": "python",
   "nbconvert_exporter": "python",
   "pygments_lexer": "ipython3",
   "version": "3.9.12"
  }
 },
 "nbformat": 4,
 "nbformat_minor": 5
}
